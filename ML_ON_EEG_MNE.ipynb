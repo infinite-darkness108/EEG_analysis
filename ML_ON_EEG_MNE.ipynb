{
  "nbformat": 4,
  "nbformat_minor": 0,
  "metadata": {
    "colab": {
      "provenance": [],
      "authorship_tag": "ABX9TyPmrbfyxPh+ZLMQUptIO1Er",
      "include_colab_link": true
    },
    "kernelspec": {
      "name": "python3",
      "display_name": "Python 3"
    },
    "language_info": {
      "name": "python"
    }
  },
  "cells": [
    {
      "cell_type": "markdown",
      "metadata": {
        "id": "view-in-github",
        "colab_type": "text"
      },
      "source": [
        "<a href=\"https://colab.research.google.com/github/infinite-darkness108/EEG_analysis/blob/main/ML_ON_EEG_MNE.ipynb\" target=\"_parent\"><img src=\"https://colab.research.google.com/assets/colab-badge.svg\" alt=\"Open In Colab\"/></a>"
      ]
    },
    {
      "cell_type": "code",
      "execution_count": null,
      "metadata": {
        "id": "1cc1iF63PYB7"
      },
      "outputs": [],
      "source": [
        "%%capture\n",
        "!pip install mne -U"
      ]
    },
    {
      "cell_type": "code",
      "source": [
        "import numpy as np\n",
        "import matplotlib.pyplot as plt\n",
        "\n",
        "from sklearn.pipeline import make_pipeline\n",
        "from sklearn.preprocessing import StandardScaler\n",
        "from sklearn.linear_model import LogisticRegression\n",
        "\n",
        "import mne\n",
        "from mne.datasets import sample\n",
        "from mne.decoding import (SlidingEstimator, GeneralizingEstimator, Scaler,\n",
        "                          cross_val_multiscore, LinearModel, get_coef,\n",
        "                          Vectorizer, CSP)\n",
        "\n",
        "data_path = sample.data_path()\n",
        "\n",
        "subjects_dir = data_path / 'subjects'\n",
        "meg_path = data_path / 'MEG' / 'sample'\n",
        "raw_fname = meg_path / 'sample_audvis_filt-0-40_raw.fif'\n",
        "tmin, tmax = -0.200, 0.500\n",
        "event_id = {'Auditory/Left': 1, 'Visual/Left': 3}  # just use two\n",
        "raw = mne.io.read_raw_fif(raw_fname)\n",
        "raw.pick_types(meg='grad', stim=True, eog=True, exclude=())\n",
        "\n",
        "# The subsequent decoding analyses only capture evoked responses, so we can\n",
        "# low-pass the MEG data. Usually a value more like 40 Hz would be used,\n",
        "# but here low-pass at 20 so we can more heavily decimate, and allow\n",
        "# the example to run faster. The 2 Hz high-pass helps improve CSP.\n",
        "raw.load_data().filter(2, 20)\n",
        "events = mne.find_events(raw, 'STI 014')\n",
        "\n",
        "# Set up bad channels (modify to your needs)\n",
        "raw.info['bads'] += ['MEG 2443']  # bads + 2 more\n",
        "\n",
        "# Read epochs\n",
        "epochs = mne.Epochs(raw, events, event_id, tmin, tmax, proj=True,\n",
        "                    picks=('grad', 'eog'), baseline=(None, 0.), preload=True,\n",
        "                    reject=dict(grad=4000e-13, eog=150e-6), decim=3,\n",
        "                    verbose='error')\n",
        "epochs.pick_types(meg=True, exclude='bads')  # remove stim and EOG\n",
        "del raw\n",
        "\n",
        "X = epochs.get_data()  # MEG signals: n_epochs, n_meg_channels, n_times\n",
        "y = epochs.events[:, 2]  # target: auditory left vs visual left"
      ],
      "metadata": {
        "colab": {
          "base_uri": "https://localhost:8080/"
        },
        "id": "CtuVu5G-CQ2p",
        "outputId": "cf6259c3-895d-4289-9225-d55d459bbb8b"
      },
      "execution_count": null,
      "outputs": [
        {
          "output_type": "stream",
          "name": "stdout",
          "text": [
            "Opening raw data file /root/mne_data/MNE-sample-data/MEG/sample/sample_audvis_filt-0-40_raw.fif...\n",
            "    Read a total of 4 projection items:\n",
            "        PCA-v1 (1 x 102)  idle\n",
            "        PCA-v2 (1 x 102)  idle\n",
            "        PCA-v3 (1 x 102)  idle\n",
            "        Average EEG reference (1 x 60)  idle\n",
            "    Range : 6450 ... 48149 =     42.956 ...   320.665 secs\n",
            "Ready.\n",
            "Removing projector <Projection | PCA-v1, active : False, n_channels : 102>\n",
            "Removing projector <Projection | PCA-v2, active : False, n_channels : 102>\n",
            "Removing projector <Projection | PCA-v3, active : False, n_channels : 102>\n",
            "Removing projector <Projection | Average EEG reference, active : False, n_channels : 60>\n",
            "Reading 0 ... 41699  =      0.000 ...   277.709 secs...\n",
            "Filtering raw data in 1 contiguous segment\n",
            "Setting up band-pass filter from 2 - 20 Hz\n",
            "\n",
            "FIR filter parameters\n",
            "---------------------\n",
            "Designing a one-pass, zero-phase, non-causal bandpass filter:\n",
            "- Windowed time-domain design (firwin) method\n",
            "- Hamming window with 0.0194 passband ripple and 53 dB stopband attenuation\n",
            "- Lower passband edge: 2.00\n",
            "- Lower transition bandwidth: 2.00 Hz (-6 dB cutoff frequency: 1.00 Hz)\n",
            "- Upper passband edge: 20.00 Hz\n",
            "- Upper transition bandwidth: 5.00 Hz (-6 dB cutoff frequency: 22.50 Hz)\n",
            "- Filter length: 249 samples (1.658 sec)\n",
            "\n"
          ]
        },
        {
          "output_type": "stream",
          "name": "stderr",
          "text": [
            "[Parallel(n_jobs=1)]: Using backend SequentialBackend with 1 concurrent workers.\n",
            "[Parallel(n_jobs=1)]: Done   1 out of   1 | elapsed:    0.0s remaining:    0.0s\n",
            "[Parallel(n_jobs=1)]: Done   2 out of   2 | elapsed:    0.0s remaining:    0.0s\n",
            "[Parallel(n_jobs=1)]: Done   3 out of   3 | elapsed:    0.0s remaining:    0.0s\n",
            "[Parallel(n_jobs=1)]: Done   4 out of   4 | elapsed:    0.0s remaining:    0.0s\n"
          ]
        },
        {
          "output_type": "stream",
          "name": "stdout",
          "text": [
            "319 events found\n",
            "Event IDs: [ 1  2  3  4  5 32]\n"
          ]
        },
        {
          "output_type": "stream",
          "name": "stderr",
          "text": [
            "[Parallel(n_jobs=1)]: Done 204 out of 204 | elapsed:    0.4s finished\n"
          ]
        }
      ]
    },
    {
      "cell_type": "code",
      "source": [
        "epochs"
      ],
      "metadata": {
        "colab": {
          "base_uri": "https://localhost:8080/",
          "height": 121
        },
        "id": "nDZaNDnHUrLI",
        "outputId": "339fab33-37dd-4e61-e429-ce1a2cef530d"
      },
      "execution_count": null,
      "outputs": [
        {
          "output_type": "execute_result",
          "data": {
            "text/plain": [
              "<Epochs |  123 events (all good), -0.199795 - 0.499488 sec, baseline -0.199795 – 0 sec, ~9.9 MB, data loaded,\n",
              " 'Auditory/Left': 56\n",
              " 'Visual/Left': 67>"
            ],
            "text/html": [
              "<table class=\"table table-hover table-striped table-sm table-responsive small\">\n",
              "    <tr>\n",
              "        <th>Number of events</th>\n",
              "        <td>123</td>\n",
              "    </tr>\n",
              "    <tr>\n",
              "        <th>Events</th>\n",
              "        \n",
              "        <td>Auditory/Left: 56<br/>Visual/Left: 67</td>\n",
              "        \n",
              "    </tr>\n",
              "    <tr>\n",
              "        <th>Time range</th>\n",
              "        <td>-0.200 – 0.499 sec</td>\n",
              "    </tr>\n",
              "    <tr>\n",
              "        <th>Baseline</th>\n",
              "        <td>-0.200 – 0.000 sec</td>\n",
              "    </tr>\n",
              "</table>"
            ]
          },
          "metadata": {},
          "execution_count": 23
        }
      ]
    },
    {
      "cell_type": "code",
      "source": [
        "X"
      ],
      "metadata": {
        "colab": {
          "base_uri": "https://localhost:8080/"
        },
        "id": "jEA_G8mBOYGE",
        "outputId": "13e68c5b-6289-40e6-d0d6-7e48ff114344"
      },
      "execution_count": null,
      "outputs": [
        {
          "output_type": "execute_result",
          "data": {
            "text/plain": [
              "array([[[-6.56767535e-13,  6.02433416e-13,  2.80465629e-12, ...,\n",
              "          1.50546377e-12,  3.30228036e-12, -1.10558462e-12],\n",
              "        [-1.03219337e-12, -2.87528351e-13, -4.49899236e-13, ...,\n",
              "         -1.54581553e-12, -1.75118751e-12, -1.70937069e-12],\n",
              "        [ 5.28657741e-13,  2.92813496e-12,  2.64485502e-12, ...,\n",
              "         -2.18572451e-12, -2.53676446e-12, -5.55858765e-12],\n",
              "        ...,\n",
              "        [ 2.15028775e-12, -9.75114729e-14,  5.13316079e-13, ...,\n",
              "         -1.69706401e-12, -2.78608377e-12, -8.16944053e-13],\n",
              "        [-1.56443393e-12, -4.16787315e-12, -8.30542219e-13, ...,\n",
              "          2.97783509e-12, -3.31815513e-12,  1.37551603e-12],\n",
              "        [ 3.11463420e-12, -1.26726702e-12, -4.02141900e-12, ...,\n",
              "         -5.43392733e-12, -3.30273452e-12,  8.57769516e-13]],\n",
              "\n",
              "       [[ 1.55423440e-12,  1.34285730e-12, -3.58504782e-12, ...,\n",
              "          2.62644652e-13,  1.16829653e-12,  3.05261987e-12],\n",
              "        [-3.32177750e-12, -6.53494782e-13,  1.38674670e-13, ...,\n",
              "         -1.84204336e-12, -1.04439831e-12, -1.30835107e-12],\n",
              "        [-6.14370353e-12,  4.22153561e-13,  4.37247872e-12, ...,\n",
              "         -1.82104596e-12, -2.75699005e-12,  1.08552370e-12],\n",
              "        ...,\n",
              "        [ 1.34171670e-12,  2.74457285e-12,  1.24416663e-13, ...,\n",
              "         -2.16963038e-14,  9.94156844e-13,  1.77041452e-12],\n",
              "        [ 3.74173567e-12,  1.07763278e-12, -2.77636231e-12, ...,\n",
              "          8.07208169e-12,  4.14630355e-12, -9.61670380e-12],\n",
              "        [ 1.44751977e-12,  6.74835495e-14,  2.45853556e-13, ...,\n",
              "         -3.34674495e-12,  2.94141373e-13,  9.40726284e-13]],\n",
              "\n",
              "       [[-1.23711493e-11,  1.43682600e-11,  1.41172256e-11, ...,\n",
              "          3.52816909e-13, -1.74208067e-12, -1.78448268e-12],\n",
              "        [-5.10913255e-12,  2.96640469e-12,  7.70418693e-12, ...,\n",
              "          5.86872273e-13, -4.90463042e-13, -1.46142911e-12],\n",
              "        [-9.32286638e-12,  4.69965837e-12,  6.62771786e-12, ...,\n",
              "         -2.43846210e-12, -8.60133486e-13, -1.33241549e-12],\n",
              "        ...,\n",
              "        [ 1.35993118e-12,  1.84025106e-12, -3.34372321e-12, ...,\n",
              "         -1.19908065e-12,  3.65689156e-12, -1.54054920e-12],\n",
              "        [-4.92919178e-12,  7.30526846e-12, -2.97089316e-12, ...,\n",
              "          1.65976267e-13, -1.81032627e-12,  2.12569705e-13],\n",
              "        [-4.44864161e-13,  1.28817945e-12, -2.44735781e-12, ...,\n",
              "          4.93428819e-13, -7.30407097e-14, -4.08296636e-12]],\n",
              "\n",
              "       ...,\n",
              "\n",
              "       [[ 1.65556588e-13, -4.32912425e-12, -1.36925004e-12, ...,\n",
              "         -5.94929828e-12, -3.78713672e-12, -3.12263596e-12],\n",
              "        [-1.92667631e-13, -3.74153575e-12, -5.64294454e-14, ...,\n",
              "          4.60718062e-12, -1.48985415e-12,  1.34408471e-13],\n",
              "        [ 1.27557066e-12, -1.17644809e-12, -2.12648546e-12, ...,\n",
              "         -8.48429089e-13,  1.44087278e-12, -8.24637410e-13],\n",
              "        ...,\n",
              "        [ 4.06689102e-12, -1.16928919e-12, -3.42033704e-12, ...,\n",
              "          2.38763584e-12,  1.42016522e-12,  2.83500284e-13],\n",
              "        [ 4.43495960e-12,  8.48430361e-13,  1.89347624e-13, ...,\n",
              "         -3.74124629e-12, -4.18713599e-14,  7.01173459e-12],\n",
              "        [-5.35086192e-13,  6.48364706e-13,  3.59462895e-12, ...,\n",
              "          5.52479336e-13,  5.07723452e-12, -1.29191515e-12]],\n",
              "\n",
              "       [[ 4.69130263e-12,  1.00143054e-12, -1.46179362e-12, ...,\n",
              "          2.49450635e-12,  7.12456105e-13,  2.58556958e-13],\n",
              "        [-1.25135059e-13, -1.55051491e-12,  4.42918120e-14, ...,\n",
              "         -1.08605687e-12,  3.80327499e-13, -1.35252922e-13],\n",
              "        [-8.81162400e-13,  1.42113808e-12,  1.33512095e-12, ...,\n",
              "          9.60756873e-14,  4.46591486e-12, -1.77002267e-12],\n",
              "        ...,\n",
              "        [ 1.15876491e-12, -1.61358049e-12,  3.59642603e-13, ...,\n",
              "         -1.05689784e-12, -5.44619350e-13,  3.37178785e-12],\n",
              "        [ 1.94273731e-12,  3.83551778e-12,  2.77252249e-12, ...,\n",
              "         -2.40675175e-12,  1.90515595e-12, -2.38226163e-13],\n",
              "        [ 2.58974661e-12, -1.52750574e-12, -3.85062987e-14, ...,\n",
              "         -5.72305283e-12, -6.02689996e-12,  2.53028771e-12]],\n",
              "\n",
              "       [[ 1.87758128e-12, -1.08161484e-12, -7.09381991e-13, ...,\n",
              "         -1.18653889e-12, -1.21900336e-12,  5.56976184e-12],\n",
              "        [-1.42921461e-12, -1.48517522e-12, -1.49050699e-12, ...,\n",
              "         -3.75780954e-12, -1.78623553e-12,  3.57500039e-12],\n",
              "        [ 1.80529004e-12,  2.38236562e-12, -4.39529109e-12, ...,\n",
              "         -6.09662747e-13, -3.83369952e-12, -2.13080381e-12],\n",
              "        ...,\n",
              "        [-1.72704610e-12, -2.93513842e-13,  3.58166312e-12, ...,\n",
              "         -1.18654870e-12,  1.29386811e-12,  3.62809336e-12],\n",
              "        [-2.70999432e-12,  1.36684913e-12, -2.93197110e-12, ...,\n",
              "         -1.38421498e-12,  5.55182169e-13, -1.63610997e-12],\n",
              "        [-6.81886023e-12, -3.86112246e-12,  4.43464601e-12, ...,\n",
              "         -2.50314485e-12,  4.79118946e-12,  2.89967034e-12]]])"
            ]
          },
          "metadata": {},
          "execution_count": 12
        }
      ]
    },
    {
      "cell_type": "code",
      "source": [
        "y"
      ],
      "metadata": {
        "colab": {
          "base_uri": "https://localhost:8080/"
        },
        "id": "sXeN52hTO8dh",
        "outputId": "612401c8-9bff-4f46-a627-18d390d9bb5c"
      },
      "execution_count": null,
      "outputs": [
        {
          "output_type": "execute_result",
          "data": {
            "text/plain": [
              "array([3, 1, 3, 1, 3, 1, 3, 1, 3, 1, 3, 1, 3, 1, 3, 1, 3, 1, 3, 1, 3, 1,\n",
              "       3, 1, 3, 1, 3, 3, 1, 3, 1, 3, 1, 3, 1, 1, 3, 1, 3, 1, 3, 3, 1, 3,\n",
              "       1, 3, 1, 3, 3, 1, 3, 1, 3, 1, 3, 1, 3, 1, 1, 3, 3, 1, 3, 1, 3, 1,\n",
              "       3, 3, 1, 3, 1, 3, 1, 3, 1, 3, 3, 3, 1, 3, 3, 3, 3, 1, 3, 1, 3, 1,\n",
              "       1, 3, 1, 3, 1, 3, 1, 3, 1, 3, 3, 1, 3, 3, 1, 3, 3, 1, 3, 1, 3, 3,\n",
              "       3, 1, 3, 1, 3, 1, 3, 1, 3, 1, 1, 3, 1])"
            ]
          },
          "metadata": {},
          "execution_count": 13
        }
      ]
    },
    {
      "cell_type": "code",
      "source": [
        "# Uses all MEG sensors and time points as separate classification\n",
        "# features, so the resulting filters used are spatio-temporal\n",
        "clf = make_pipeline(\n",
        "    Scaler(epochs.info),\n",
        "    Vectorizer(),\n",
        "    LogisticRegression(solver='liblinear')  # liblinear is faster than lbfgs\n",
        ")\n",
        "\n",
        "scores = cross_val_multiscore(clf, X, y, cv=5, n_jobs=None)\n",
        "\n",
        "# Mean scores across cross-validation splits\n",
        "score = np.mean(scores, axis=0)\n",
        "print('Spatio-temporal: %0.1f%%' % (100 * score,))"
      ],
      "metadata": {
        "colab": {
          "base_uri": "https://localhost:8080/"
        },
        "id": "LQz3h9nBFYBX",
        "outputId": "3ef5371b-ce22-4600-c679-72286260b3ee"
      },
      "execution_count": null,
      "outputs": [
        {
          "output_type": "stream",
          "name": "stderr",
          "text": [
            "[Parallel(n_jobs=1)]: Using backend SequentialBackend with 1 concurrent workers.\n",
            "[Parallel(n_jobs=1)]: Done   1 out of   1 | elapsed:    0.2s remaining:    0.0s\n",
            "[Parallel(n_jobs=1)]: Done   2 out of   2 | elapsed:    0.5s remaining:    0.0s\n",
            "[Parallel(n_jobs=1)]: Done   3 out of   3 | elapsed:    0.7s remaining:    0.0s\n"
          ]
        },
        {
          "output_type": "stream",
          "name": "stdout",
          "text": [
            "Spatio-temporal: 99.2%\n"
          ]
        },
        {
          "output_type": "stream",
          "name": "stderr",
          "text": [
            "[Parallel(n_jobs=1)]: Done   4 out of   4 | elapsed:    0.8s remaining:    0.0s\n",
            "[Parallel(n_jobs=1)]: Done   5 out of   5 | elapsed:    1.0s finished\n"
          ]
        }
      ]
    },
    {
      "cell_type": "code",
      "source": [
        "X_2d = X.reshape(X.shape[0], -1)\n",
        "clf.fit(X_2d, y)"
      ],
      "metadata": {
        "colab": {
          "base_uri": "https://localhost:8080/",
          "height": 189
        },
        "id": "3WZqmXSccWHP",
        "outputId": "07e454b4-a911-463c-8800-ffe90eb4a29c"
      },
      "execution_count": null,
      "outputs": [
        {
          "output_type": "execute_result",
          "data": {
            "text/plain": [
              "Pipeline(steps=[('standardscaler', StandardScaler()),\n",
              "                ('linearmodel',\n",
              "                 LinearModel({'model': LogisticRegression(solver='liblinear')}))])"
            ],
            "text/html": [
              "<style>#sk-container-id-1 {color: black;background-color: white;}#sk-container-id-1 pre{padding: 0;}#sk-container-id-1 div.sk-toggleable {background-color: white;}#sk-container-id-1 label.sk-toggleable__label {cursor: pointer;display: block;width: 100%;margin-bottom: 0;padding: 0.3em;box-sizing: border-box;text-align: center;}#sk-container-id-1 label.sk-toggleable__label-arrow:before {content: \"▸\";float: left;margin-right: 0.25em;color: #696969;}#sk-container-id-1 label.sk-toggleable__label-arrow:hover:before {color: black;}#sk-container-id-1 div.sk-estimator:hover label.sk-toggleable__label-arrow:before {color: black;}#sk-container-id-1 div.sk-toggleable__content {max-height: 0;max-width: 0;overflow: hidden;text-align: left;background-color: #f0f8ff;}#sk-container-id-1 div.sk-toggleable__content pre {margin: 0.2em;color: black;border-radius: 0.25em;background-color: #f0f8ff;}#sk-container-id-1 input.sk-toggleable__control:checked~div.sk-toggleable__content {max-height: 200px;max-width: 100%;overflow: auto;}#sk-container-id-1 input.sk-toggleable__control:checked~label.sk-toggleable__label-arrow:before {content: \"▾\";}#sk-container-id-1 div.sk-estimator input.sk-toggleable__control:checked~label.sk-toggleable__label {background-color: #d4ebff;}#sk-container-id-1 div.sk-label input.sk-toggleable__control:checked~label.sk-toggleable__label {background-color: #d4ebff;}#sk-container-id-1 input.sk-hidden--visually {border: 0;clip: rect(1px 1px 1px 1px);clip: rect(1px, 1px, 1px, 1px);height: 1px;margin: -1px;overflow: hidden;padding: 0;position: absolute;width: 1px;}#sk-container-id-1 div.sk-estimator {font-family: monospace;background-color: #f0f8ff;border: 1px dotted black;border-radius: 0.25em;box-sizing: border-box;margin-bottom: 0.5em;}#sk-container-id-1 div.sk-estimator:hover {background-color: #d4ebff;}#sk-container-id-1 div.sk-parallel-item::after {content: \"\";width: 100%;border-bottom: 1px solid gray;flex-grow: 1;}#sk-container-id-1 div.sk-label:hover label.sk-toggleable__label {background-color: #d4ebff;}#sk-container-id-1 div.sk-serial::before {content: \"\";position: absolute;border-left: 1px solid gray;box-sizing: border-box;top: 0;bottom: 0;left: 50%;z-index: 0;}#sk-container-id-1 div.sk-serial {display: flex;flex-direction: column;align-items: center;background-color: white;padding-right: 0.2em;padding-left: 0.2em;position: relative;}#sk-container-id-1 div.sk-item {position: relative;z-index: 1;}#sk-container-id-1 div.sk-parallel {display: flex;align-items: stretch;justify-content: center;background-color: white;position: relative;}#sk-container-id-1 div.sk-item::before, #sk-container-id-1 div.sk-parallel-item::before {content: \"\";position: absolute;border-left: 1px solid gray;box-sizing: border-box;top: 0;bottom: 0;left: 50%;z-index: -1;}#sk-container-id-1 div.sk-parallel-item {display: flex;flex-direction: column;z-index: 1;position: relative;background-color: white;}#sk-container-id-1 div.sk-parallel-item:first-child::after {align-self: flex-end;width: 50%;}#sk-container-id-1 div.sk-parallel-item:last-child::after {align-self: flex-start;width: 50%;}#sk-container-id-1 div.sk-parallel-item:only-child::after {width: 0;}#sk-container-id-1 div.sk-dashed-wrapped {border: 1px dashed gray;margin: 0 0.4em 0.5em 0.4em;box-sizing: border-box;padding-bottom: 0.4em;background-color: white;}#sk-container-id-1 div.sk-label label {font-family: monospace;font-weight: bold;display: inline-block;line-height: 1.2em;}#sk-container-id-1 div.sk-label-container {text-align: center;}#sk-container-id-1 div.sk-container {/* jupyter's `normalize.less` sets `[hidden] { display: none; }` but bootstrap.min.css set `[hidden] { display: none !important; }` so we also need the `!important` here to be able to override the default hidden behavior on the sphinx rendered scikit-learn.org. See: https://github.com/scikit-learn/scikit-learn/issues/21755 */display: inline-block !important;position: relative;}#sk-container-id-1 div.sk-text-repr-fallback {display: none;}</style><div id=\"sk-container-id-1\" class=\"sk-top-container\"><div class=\"sk-text-repr-fallback\"><pre>Pipeline(steps=[(&#x27;standardscaler&#x27;, StandardScaler()),\n",
              "                (&#x27;linearmodel&#x27;,\n",
              "                 LinearModel({&#x27;model&#x27;: LogisticRegression(solver=&#x27;liblinear&#x27;)}))])</pre><b>In a Jupyter environment, please rerun this cell to show the HTML representation or trust the notebook. <br />On GitHub, the HTML representation is unable to render, please try loading this page with nbviewer.org.</b></div><div class=\"sk-container\" hidden><div class=\"sk-item sk-dashed-wrapped\"><div class=\"sk-label-container\"><div class=\"sk-label sk-toggleable\"><input class=\"sk-toggleable__control sk-hidden--visually\" id=\"sk-estimator-id-1\" type=\"checkbox\" ><label for=\"sk-estimator-id-1\" class=\"sk-toggleable__label sk-toggleable__label-arrow\">Pipeline</label><div class=\"sk-toggleable__content\"><pre>Pipeline(steps=[(&#x27;standardscaler&#x27;, StandardScaler()),\n",
              "                (&#x27;linearmodel&#x27;,\n",
              "                 LinearModel({&#x27;model&#x27;: LogisticRegression(solver=&#x27;liblinear&#x27;)}))])</pre></div></div></div><div class=\"sk-serial\"><div class=\"sk-item\"><div class=\"sk-estimator sk-toggleable\"><input class=\"sk-toggleable__control sk-hidden--visually\" id=\"sk-estimator-id-2\" type=\"checkbox\" ><label for=\"sk-estimator-id-2\" class=\"sk-toggleable__label sk-toggleable__label-arrow\">StandardScaler</label><div class=\"sk-toggleable__content\"><pre>StandardScaler()</pre></div></div></div><div class=\"sk-item sk-dashed-wrapped\"><div class=\"sk-label-container\"><div class=\"sk-label sk-toggleable\"><input class=\"sk-toggleable__control sk-hidden--visually\" id=\"sk-estimator-id-3\" type=\"checkbox\" ><label for=\"sk-estimator-id-3\" class=\"sk-toggleable__label sk-toggleable__label-arrow\">linearmodel: LinearModel</label><div class=\"sk-toggleable__content\"><pre>LinearModel({&#x27;model&#x27;: LogisticRegression(solver=&#x27;liblinear&#x27;)})</pre></div></div></div><div class=\"sk-parallel\"><div class=\"sk-parallel-item\"><div class=\"sk-item\"><div class=\"sk-label-container\"><div class=\"sk-label sk-toggleable\"><input class=\"sk-toggleable__control sk-hidden--visually\" id=\"sk-estimator-id-4\" type=\"checkbox\" ><label for=\"sk-estimator-id-4\" class=\"sk-toggleable__label sk-toggleable__label-arrow\">model: LogisticRegression</label><div class=\"sk-toggleable__content\"><pre>LogisticRegression(solver=&#x27;liblinear&#x27;)</pre></div></div></div><div class=\"sk-serial\"><div class=\"sk-item\"><div class=\"sk-estimator sk-toggleable\"><input class=\"sk-toggleable__control sk-hidden--visually\" id=\"sk-estimator-id-5\" type=\"checkbox\" ><label for=\"sk-estimator-id-5\" class=\"sk-toggleable__label sk-toggleable__label-arrow\">LogisticRegression</label><div class=\"sk-toggleable__content\"><pre>LogisticRegression(solver=&#x27;liblinear&#x27;)</pre></div></div></div></div></div></div></div></div></div></div></div></div>"
            ]
          },
          "metadata": {},
          "execution_count": 29
        }
      ]
    },
    {
      "cell_type": "code",
      "source": [
        "test_idx =20"
      ],
      "metadata": {
        "id": "I7JjF-wmdmTm"
      },
      "execution_count": null,
      "outputs": []
    },
    {
      "cell_type": "code",
      "source": [
        "X_2d[test_idx]"
      ],
      "metadata": {
        "colab": {
          "base_uri": "https://localhost:8080/"
        },
        "id": "-jsArf1XcJB6",
        "outputId": "3444d7c8-bed6-4a75-a261-ce9b8c7897aa"
      },
      "execution_count": null,
      "outputs": [
        {
          "output_type": "execute_result",
          "data": {
            "text/plain": [
              "array([-1.98370117e-12,  9.13284551e-13, -1.22589613e-13, ...,\n",
              "       -5.69365521e-12, -1.26314208e-11, -1.92145685e-12])"
            ]
          },
          "metadata": {},
          "execution_count": 50
        }
      ]
    },
    {
      "cell_type": "code",
      "source": [
        "y[test_idx]\n",
        "\n",
        "# The output ↓ is corrctly predicted or not is the question."
      ],
      "metadata": {
        "colab": {
          "base_uri": "https://localhost:8080/"
        },
        "id": "ekpS7J6jT3P9",
        "outputId": "e24ccd53-87e6-427c-a83a-e82811ce5fb0"
      },
      "execution_count": null,
      "outputs": [
        {
          "output_type": "execute_result",
          "data": {
            "text/plain": [
              "3"
            ]
          },
          "metadata": {},
          "execution_count": 51
        }
      ]
    },
    {
      "cell_type": "code",
      "source": [
        "clf.predict(X_2d[test_idx].reshape(1,-1))"
      ],
      "metadata": {
        "colab": {
          "base_uri": "https://localhost:8080/"
        },
        "id": "VllWhs7tc5IT",
        "outputId": "fbab7dbd-cfaa-47b6-83ea-eb9d0d1e0cd2"
      },
      "execution_count": null,
      "outputs": [
        {
          "output_type": "execute_result",
          "data": {
            "text/plain": [
              "array([3])"
            ]
          },
          "metadata": {},
          "execution_count": 52
        }
      ]
    }
  ]
}